{
 "cells": [
  {
   "cell_type": "code",
   "execution_count": 1,
   "metadata": {},
   "outputs": [
    {
     "name": "stdout",
     "output_type": "stream",
     "text": [
      "hasil 10 + 5 = 15\n",
      "hasil 10 - 5 = 5\n",
      "hasil 10 * 5 = 50\n",
      "hasil 10 / 5 = 2.0\n",
      "hasil 10 sisa bagi 5 = 0\n",
      "hasil 10 pangkat 5 = 100000\n"
     ]
    }
   ],
   "source": [
    "#deni saputra\n",
    "a= 10\n",
    "b= 5\n",
    "# menggunakan operator penjumlahan\n",
    "c= a + b\n",
    "print(\"hasil\",a,\"+\",b,\"=\",c)\n",
    "\n",
    "#operator pengurangan\n",
    "d= a - b\n",
    "print(\"hasil\",a,\"-\",b,\"=\",d)\n",
    "\n",
    "#operator perkalian\n",
    "e= a * b\n",
    "print(\"hasil\",a,\"*\",b,\"=\",e)\n",
    "\n",
    "#operator pembagian\n",
    "f= a / b\n",
    "print(\"hasil\",a,\"/\",b,\"=\",f)\n",
    "\n",
    "#operator sisa bagi\n",
    "g= a % b\n",
    "print(\"hasil\",a,\"sisa bagi\",b,\"=\",g)\n",
    "\n",
    "#operator pemangkatan\n",
    "h=a ** b\n",
    "print(\"hasil\",a,\"pangkat\",b,\"=\",h)\n"
   ]
  },
  {
   "cell_type": "code",
   "execution_count": 4,
   "metadata": {},
   "outputs": [
    {
     "name": "stdout",
     "output_type": "stream",
     "text": [
      "6\n",
      "14\n",
      "8\n",
      "32\n",
      "16.0\n",
      "1.0\n",
      "1.0\n"
     ]
    }
   ],
   "source": [
    "# deni saputra\n",
    "a= 6\n",
    "print(a)\n",
    "\n",
    "a +=8\n",
    "print(a)\n",
    "\n",
    "a -=6\n",
    "print (a)\n",
    "\n",
    "a *=4\n",
    "print (a)\n",
    "\n",
    "a /=2\n",
    "print (a)\n",
    "\n",
    "a %=5\n",
    "print (a)\n",
    "\n",
    "a **=4\n",
    "print (a)\n",
    "\n"
   ]
  },
  {
   "cell_type": "code",
   "execution_count": 10,
   "metadata": {},
   "outputs": [
    {
     "name": "stdout",
     "output_type": "stream",
     "text": [
      "10\n",
      "10\n",
      "6\n",
      "30\n",
      "3.0\n",
      "0\n",
      "16\n"
     ]
    }
   ],
   "source": [
    "#Deni saputra\n",
    "a=10\n",
    "print (a)\n",
    "\n",
    "b=6\n",
    "b +=4\n",
    "print(b)\n",
    "\n",
    "c=8\n",
    "c -=2\n",
    "print(c)\n",
    "\n",
    "d=10\n",
    "d *=3\n",
    "print(d)\n",
    "\n",
    "e=9\n",
    "e /=3\n",
    "print (e)\n",
    "\n",
    "f=10\n",
    "f %=2\n",
    "print(f)\n",
    "\n",
    "g=4\n",
    "g **=2\n",
    "print(g)\n",
    "\n",
    "\n",
    "\n"
   ]
  },
  {
   "cell_type": "code",
   "execution_count": 2,
   "metadata": {},
   "outputs": [
    {
     "name": "stdout",
     "output_type": "stream",
     "text": [
      "apakah a sama dengan b: False\n",
      "apakah a lebih besar dari b: True\n",
      "apakah a lebih kecil dari b False\n",
      "apakah a tidak sama dengan b True\n",
      "apakah a sama dengan b False\n",
      "apakah a lebih besar sama dengan b True\n",
      "apakah a lebih kecil sama denga b False\n"
     ]
    }
   ],
   "source": [
    " #Deni sapputra\n",
    "a = 20\n",
    "b =4\n",
    "\n",
    "#apakah a sama dengan b ?\n",
    "c = a == b\n",
    "print (\"apakah a sama dengan b:\", c)\n",
    "\n",
    "#apakah a lebih besar dari b ?\n",
    "d= a > b\n",
    "print (\"apakah a lebih besar dari b:\",d)\n",
    "\n",
    "#apakah a lebih kecil dari b ?\n",
    "e= a < b\n",
    "print (\"apakah a lebih kecil dari b\",e)\n",
    "\n",
    "#apakah a tidak sama dengan  b ?\n",
    "f= a != b\n",
    "print ( \"apakah a tidak sama dengan b\",f)\n",
    "\n",
    "#apakah a sama dengan b ?\n",
    "g= a == b\n",
    "print(\"apakah a sama dengan b\",g)\n",
    "\n",
    "#apakah a lebih besar sama dengan b ?\n",
    "h= a >= b\n",
    "print (\"apakah a lebih besar sama dengan b\",h)\n",
    "\n",
    "#apakah a lebih kecil sama dengan b ?\n",
    "i= a <= b\n",
    "print (\"apakah a lebih kecil sama denga b\",i)\n"
   ]
  },
  {
   "cell_type": "code",
   "execution_count": 1,
   "metadata": {},
   "outputs": [
    {
     "name": "stdout",
     "output_type": "stream",
     "text": [
      "False\n",
      "True\n",
      "True\n"
     ]
    }
   ],
   "source": [
    "#DENI SAPUTRA \n",
    "a= True\n",
    "b= False\n",
    "\n",
    "#Logika AND\n",
    "c= a and b\n",
    "print (c)\n",
    "\n",
    "#operator logika OR\n",
    "e= a or b\n",
    "print (e)\n",
    "\n",
    "#logika negasi/kebalikan\n",
    "f= not b\n",
    "print (f)\n"
   ]
  },
  {
   "cell_type": "code",
   "execution_count": 2,
   "metadata": {},
   "outputs": [
    {
     "name": "stdout",
     "output_type": "stream",
     "text": [
      "masukan nama bayikiano\n",
      "masukan berat badan bayi dalam kg 6\n",
      "nama bayi adalah kiano\n",
      "berat bayi dalam kg 6\n",
      "berat bayi dalam ons 60\n",
      "berat bayi 1 bulan kedpan ditambah 30 ons menjadi 90\n"
     ]
    }
   ],
   "source": [
    "#Deni saputra\n",
    "nama= input(\"masukan nama bayi\")\n",
    "bb= int (input(\"masukan berat badan bayi dalam kg\"))\n",
    "\n",
    "ons1= bb *10\n",
    "ons2= ons1 + 30\n",
    "\n",
    "#masukan output\n",
    "print(\"nama bayi adalah\",nama)\n",
    "print(\"berat bayi dalam kg\", bb)\n",
    "print(\"berat bayi dalam ons\", ons1)\n",
    "print(\"berat bayi 1 bulan kedpan ditambah 30 ons menjadi\", ons2)"
   ]
  },
  {
   "cell_type": "code",
   "execution_count": null,
   "metadata": {},
   "outputs": [],
   "source": []
  }
 ],
 "metadata": {
  "kernelspec": {
   "display_name": "Python 3",
   "language": "python",
   "name": "python3"
  },
  "language_info": {
   "codemirror_mode": {
    "name": "ipython",
    "version": 3
   },
   "file_extension": ".py",
   "mimetype": "text/x-python",
   "name": "python",
   "nbconvert_exporter": "python",
   "pygments_lexer": "ipython3",
   "version": "3.8.3"
  }
 },
 "nbformat": 4,
 "nbformat_minor": 4
}
