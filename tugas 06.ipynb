{
 "cells": [
  {
   "cell_type": "code",
   "execution_count": 5,
   "metadata": {},
   "outputs": [
    {
     "name": "stdout",
     "output_type": "stream",
     "text": [
      "masukan nilai65\n",
      "selmat anda mengikuti remidi\n"
     ]
    }
   ],
   "source": [
    "#deni saputra\n",
    "#percabangan if menentukan nilai remidi\n",
    "nilai =  int(input(\"masukan nilai\"))\n",
    "\n",
    "if nilai <= 80:\n",
    "    print(\"selmat anda mengikuti remidi\")"
   ]
  },
  {
   "cell_type": "code",
   "execution_count": 10,
   "metadata": {},
   "outputs": [
    {
     "name": "stdout",
     "output_type": "stream",
     "text": [
      "masukan jari - jari1\n",
      "luas lingkaran adalah 3 maka\n",
      "lingkaran ini kecil\n"
     ]
    }
   ],
   "source": [
    "#deni saputra\n",
    "#notasi algoritma\n",
    "rad = int(input(\"masukan jari - jari\"))\n",
    "\n",
    "luas = int (3.14*rad*rad)\n",
    "print(\"luas lingkaran adalah\" , luas,\"maka\")\n",
    "\n",
    "if luas >= 314:\n",
    "    print(\"lingkaran ini  besar\")\n",
    "    \n",
    "else:\n",
    "    print(\"lingkaran ini kecil\")\n"
   ]
  },
  {
   "cell_type": "code",
   "execution_count": 9,
   "metadata": {},
   "outputs": [
    {
     "name": "stdout",
     "output_type": "stream",
     "text": [
      "masukan jari - jari10\n",
      "luas lingkaran adalah 314 maka\n",
      "lingkaran ini  besar\n"
     ]
    }
   ],
   "source": [
    "#deni saputra\n",
    "#notasi algoritma\n",
    "rad = int(input(\"masukan jari - jari\"))\n",
    "\n",
    "luas = int(3.14*rad*rad)\n",
    "print(\"luas lingkaran adalah\" , luas,\"maka\")\n",
    "\n",
    "if luas >= 314:\n",
    "    print(\"lingkaran ini  besar\")\n",
    "    \n",
    "else:\n",
    "    print(\"lingkaran ini kecil\")"
   ]
  },
  {
   "cell_type": "code",
   "execution_count": 33,
   "metadata": {},
   "outputs": [
    {
     "name": "stdout",
     "output_type": "stream",
     "text": [
      "masukan nomor program : 1\n",
      " masukan panjang: 5\n",
      "masukan lebar: 4\n",
      "masukan tinggi: 3\n",
      "jadi volume balok : 60\n"
     ]
    }
   ],
   "source": [
    "# deni saputra\n",
    "#volume balok\n",
    "\n",
    "\n",
    "def x():\n",
    "    p = int(input(\" masukan panjang:\"))\n",
    "    l = int(input(\"masukan lebar:\"))\n",
    "    t = int(input(\"masukan tinggi:\"))\n",
    "    vb = (p*l*t)\n",
    "    return vb\n",
    "\n",
    "def y():\n",
    "    s=int(input(\"sisi : \"))\n",
    "    vk = (s*s*s)\n",
    "    return vk\n",
    "\n",
    "program =int(input(\"masukan nomor program : \"))\n",
    "\n",
    "if program == 1:\n",
    "    print(\"jadi volume balok :\" , x())\n",
    "    \n",
    "elif program == 2 :\n",
    "     print(\"jadi volume kubus :\" , y())\n",
    "\n",
    "else :\n",
    "    print(\"program tidak tersedia\")\n",
    "\n"
   ]
  },
  {
   "cell_type": "code",
   "execution_count": null,
   "metadata": {},
   "outputs": [],
   "source": []
  }
 ],
 "metadata": {
  "kernelspec": {
   "display_name": "Python 3",
   "language": "python",
   "name": "python3"
  },
  "language_info": {
   "codemirror_mode": {
    "name": "ipython",
    "version": 3
   },
   "file_extension": ".py",
   "mimetype": "text/x-python",
   "name": "python",
   "nbconvert_exporter": "python",
   "pygments_lexer": "ipython3",
   "version": "3.8.3"
  }
 },
 "nbformat": 4,
 "nbformat_minor": 4
}
