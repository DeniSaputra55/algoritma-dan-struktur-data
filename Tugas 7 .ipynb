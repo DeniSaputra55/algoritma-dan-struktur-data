{
 "cells": [
  {
   "cell_type": "code",
   "execution_count": 2,
   "metadata": {},
   "outputs": [
    {
     "name": "stdout",
     "output_type": "stream",
     "text": [
      "saya tidak akan mengulangi perbuatan itu lagi\n",
      "saya tidak akan mengulangi perbuatan itu lagi\n",
      "saya tidak akan mengulangi perbuatan itu lagi\n",
      "saya tidak akan mengulangi perbuatan itu lagi\n",
      "saya tidak akan mengulangi perbuatan itu lagi\n",
      "saya tidak akan mengulangi perbuatan itu lagi\n",
      "saya tidak akan mengulangi perbuatan itu lagi\n",
      "saya tidak akan mengulangi perbuatan itu lagi\n",
      "saya tidak akan mengulangi perbuatan itu lagi\n",
      "saya tidak akan mengulangi perbuatan itu lagi\n",
      "saya tidak akan mengulangi perbuatan itu lagi\n",
      "saya tidak akan mengulangi perbuatan itu lagi\n",
      "saya tidak akan mengulangi perbuatan itu lagi\n",
      "saya tidak akan mengulangi perbuatan itu lagi\n",
      "saya tidak akan mengulangi perbuatan itu lagi\n",
      "saya tidak akan mengulangi perbuatan itu lagi\n",
      "saya tidak akan mengulangi perbuatan itu lagi\n",
      "saya tidak akan mengulangi perbuatan itu lagi\n",
      "saya tidak akan mengulangi perbuatan itu lagi\n",
      "saya tidak akan mengulangi perbuatan itu lagi\n",
      "saya tidak akan mengulangi perbuatan itu lagi\n",
      "saya tidak akan mengulangi perbuatan itu lagi\n",
      "saya tidak akan mengulangi perbuatan itu lagi\n",
      "saya tidak akan mengulangi perbuatan itu lagi\n",
      "saya tidak akan mengulangi perbuatan itu lagi\n"
     ]
    }
   ],
   "source": [
    "#deni saputra\n",
    "#no1\n",
    "\n",
    "ulang=25\n",
    "for i in range(ulang):\n",
    "    print(\"saya tidak akan mengulangi perbuatan itu lagi\")"
   ]
  },
  {
   "cell_type": "code",
   "execution_count": 7,
   "metadata": {},
   "outputs": [
    {
     "name": "stdout",
     "output_type": "stream",
     "text": [
      "nilai x = 15\n",
      "nilai x = 14\n",
      "nilai x = 13\n",
      "nilai x = 12\n",
      "nilai x = 11\n"
     ]
    }
   ],
   "source": [
    "#deni saputra\n",
    "#no 2\n",
    "\n",
    "x=15\n",
    "while x >10:\n",
    "    print(\"nilai x =\", x)\n",
    "    x-=1"
   ]
  },
  {
   "cell_type": "code",
   "execution_count": 5,
   "metadata": {},
   "outputs": [
    {
     "name": "stdout",
     "output_type": "stream",
     "text": [
      "masukan bilangan=  44\n",
      "44 adalah bilangan genap\n"
     ]
    }
   ],
   "source": [
    "#deni saputra\n",
    "#no3\n",
    "bilangan=int(input(\"masukan bilangan= \"))\n",
    "def genap():\n",
    "    print(bilangan,\"adalah bilangan genap\")\n",
    "    \n",
    "def ganjil():\n",
    "    print(bilangan,\"adalah bilangan ganjil\")\n",
    "    \n",
    "if bilangan%2== 0:\n",
    "    genap()\n",
    "else:\n",
    "    ganjil()"
   ]
  },
  {
   "cell_type": "code",
   "execution_count": 8,
   "metadata": {},
   "outputs": [
    {
     "name": "stdout",
     "output_type": "stream",
     "text": [
      "masukan angka:  88\n",
      "88 merupakan angka genap \n"
     ]
    }
   ],
   "source": [
    "#Deni saputra\n",
    "#no3 \n",
    "\n",
    "angka = int(input(\"masukan angka: \"))\n",
    "\n",
    "def agenap():\n",
    "    print(angka, \"merupakan angka genap \")\n",
    "    return\n",
    "\n",
    "def ganjil():\n",
    "    print(angka, \"merupakan angka ganjil\")\n",
    "    return\n",
    "\n",
    "if angka %2 == 0:\n",
    "    agenap()\n",
    "else:\n",
    "    aganjil()"
   ]
  },
  {
   "cell_type": "code",
   "execution_count": 9,
   "metadata": {},
   "outputs": [
    {
     "name": "stdout",
     "output_type": "stream",
     "text": [
      "masukan angka:  6\n",
      "6 merupakan bilangan genap\n",
      "mau coba lagi? ya\n",
      "masukan angka: 3\n",
      "3 merupakan bilangan ganjil\n",
      "mau coba lagi? ya\n",
      "masukan angka: 4\n",
      "4 merupakan bilangan genap\n",
      "mau coba lagi? ya\n",
      "masukan angka: 1\n",
      "1 merupakan bilangan ganjil\n",
      "mau coba lagi? tidak\n",
      "program telah selesai\n"
     ]
    }
   ],
   "source": [
    "#deni saputra\n",
    "#no 3\n",
    "\n",
    "def pangka():\n",
    "    angka = int(input(\"masukan angka: \"))\n",
    "    if angka %2 == 0:\n",
    "        print(angka, \"merupakan bilangan genap\")\n",
    "    else:\n",
    "        print(angka, \"merupakan bilangan ganjil\")\n",
    "\n",
    "pangka()\n",
    "while(True):\n",
    "    pilih = input(\"mau coba lagi? \")\n",
    "    if pilih == \"ya\":\n",
    "        pangka()\n",
    "    else:\n",
    "        print(\"program telah selesai\")\n",
    "        break"
   ]
  }
 ],
 "metadata": {
  "kernelspec": {
   "display_name": "Python 3",
   "language": "python",
   "name": "python3"
  }
 },
 "nbformat": 4,
 "nbformat_minor": 4
}
