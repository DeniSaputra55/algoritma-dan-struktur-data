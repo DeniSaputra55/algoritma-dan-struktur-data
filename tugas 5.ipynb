{
 "cells": [
  {
   "cell_type": "code",
   "execution_count": 2,
   "metadata": {},
   "outputs": [
    {
     "name": "stdout",
     "output_type": "stream",
     "text": [
      "i like programming\n",
      "because i oriud to make something\n"
     ]
    }
   ],
   "source": [
    "#deni saputra\n",
    "#membuat fungsi 1\n",
    "def alasan():\n",
    "    print(\"because i oriud to make something\")\n",
    "\n",
    "#membuat fungsi 2\n",
    "def hobi():\n",
    "    print(\"i like programming\")\n",
    "\n",
    "#pemanggilan fungsi\n",
    "hobi()\n",
    "alasan()\n",
    "\n"
   ]
  },
  {
   "cell_type": "code",
   "execution_count": 1,
   "metadata": {},
   "outputs": [
    {
     "name": "stdout",
     "output_type": "stream",
     "text": [
      "masukan nama anda deni saputra\n",
      "nama anda adalah deni saputra\n",
      "luas persegi panjang adalah 50\n",
      "luas persegi panjang adalah 5000\n"
     ]
    }
   ],
   "source": [
    "#deni saputra\n",
    "def data():\n",
    "    nama = input(\"masukan nama anda \")\n",
    "    print(\"nama anda adalah\", nama)\n",
    "    \n",
    "data()\n",
    "\n",
    "#membuat fuungsi dengan 2 parameter\n",
    "def luas_pp(panjang, lebar):\n",
    "    luas = (panjang*lebar)\n",
    "    print(\"luas persegi panjang adalah\", luas)\n",
    "    \n",
    "#pemanggilan fungsi\n",
    "luas_pp(5, 10)\n",
    "luas_pp(100, 50)"
   ]
  },
  {
   "cell_type": "code",
   "execution_count": 8,
   "metadata": {},
   "outputs": [
    {
     "name": "stdout",
     "output_type": "stream",
     "text": [
      "luas persegi panjang adalah 8\n"
     ]
    }
   ],
   "source": [
    "# deni saputra\n",
    "def luas_pp(panjang, lebar):\n",
    "    luas = (panjang*lebar)\n",
    "    print(\"luas persegi panjang adalah\", luas)\n",
    "    \n",
    "#pemanggilan fungsi \n",
    "luas_pp(4,2)\n"
   ]
  },
  {
   "cell_type": "code",
   "execution_count": 15,
   "metadata": {},
   "outputs": [
    {
     "name": "stdout",
     "output_type": "stream",
     "text": [
      " masukan panjang5\n",
      "masukan lebar4\n",
      "masukan tinggi3\n",
      "luas persegi panjang 20\n",
      "volume balok adalah 60\n"
     ]
    }
   ],
   "source": [
    "# deni saputra\n",
    "panjang = int(input(\" masukan panjang\"))\n",
    "lebar = int(input(\"masukan lebar\"))\n",
    "tinggi = int(input(\"masukan tinggi\"))\n",
    "\n",
    "def luas_pp():\n",
    "    luas = panjang*lebar\n",
    "    return luas\n",
    "\n",
    "\n",
    "\n",
    "def volume_balok():\n",
    "    volume =luas_pp()*tinggi\n",
    "    return volume\n",
    "\n",
    "print(\"luas persegi panjang\", luas_pp())\n",
    "print(\"volume balok adalah\", volume_balok())\n",
    "\n"
   ]
  },
  {
   "cell_type": "code",
   "execution_count": 18,
   "metadata": {},
   "outputs": [
    {
     "name": "stdout",
     "output_type": "stream",
     "text": [
      "masukan angkka16\n",
      "masukan angka25\n",
      "apakah angka1 sama dengan angka2 ? False\n",
      "apakah angka1 lebih besar dari angka2 ? True\n"
     ]
    }
   ],
   "source": [
    "angka1 = int(input(\"masukan angkka1\"))\n",
    "angka2 = int(input(\"masukan angka2\"))\n",
    "def x():\n",
    "    y = (angka1 == angka2)\n",
    "    return y\n",
    "def z():\n",
    "    o = (angka1 > angka2)\n",
    "    return o\n",
    "print(\"apakah angka1 sama dengan angka2 ?\",x())\n",
    "print (\"apakah angka1 lebih besar dari angka2 ?\",z())\n"
   ]
  }
 ],
 "metadata": {
  "kernelspec": {
   "display_name": "Python 3",
   "language": "python",
   "name": "python3"
  },
  "language_info": {
   "codemirror_mode": {
    "name": "ipython",
    "version": 3
   },
   "file_extension": ".py",
   "mimetype": "text/x-python",
   "name": "python",
   "nbconvert_exporter": "python",
   "pygments_lexer": "ipython3",
   "version": "3.8.3"
  }
 },
 "nbformat": 4,
 "nbformat_minor": 4
}
