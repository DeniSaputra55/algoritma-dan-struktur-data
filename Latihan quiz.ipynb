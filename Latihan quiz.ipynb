{
 "cells": [
  {
   "cell_type": "code",
   "execution_count": 3,
   "metadata": {},
   "outputs": [
    {
     "name": "stdout",
     "output_type": "stream",
     "text": [
      "b3\n"
     ]
    }
   ],
   "source": [
    "#deni saputra\n",
    "#conditional+ f string\n",
    "a,b = 4,1\n",
    "if b > a:\n",
    "    a += 1\n",
    "else:\n",
    "    b += 2\n",
    "    \n",
    "b,a = a,b\n",
    "print(f\"b{a}\")\n",
    "\n",
    "#ket : a = 4, b= 1, Masuk ELSE, ElSE b= 1+2=3 lalu a=4, b=3.Baru a,b nilai dibalik a=3,b=4.diprint itu {a}nya kebaca =3\n",
    "#ini di namakan (f-string)"
   ]
  },
  {
   "cell_type": "code",
   "execution_count": 4,
   "metadata": {},
   "outputs": [
    {
     "name": "stdout",
     "output_type": "stream",
     "text": [
      "5\n"
     ]
    }
   ],
   "source": [
    "#deni saputra\n",
    "#dictionary+ forloop\n",
    "d = {3:1,7:4,2:8}\n",
    "a = [1,2,3,4]\n",
    "\n",
    "for i in d:\n",
    "    if d[i] in a:\n",
    "        print(a[d[i]] + 3)\n",
    "        break\n",
    "#ket: saat forloop i=3,7,2,saat i=3 , d[3]=1,cek apakak 1 ada di list a , berarti masuk IF\n",
    "#sekrang printa[1]+3=2+3+5 dan break berhenti program"
   ]
  },
  {
   "cell_type": "code",
   "execution_count": 5,
   "metadata": {},
   "outputs": [
    {
     "name": "stdout",
     "output_type": "stream",
     "text": [
      "cdn\n"
     ]
    }
   ],
   "source": [
    "#deni saputra\n",
    "#forlop+strip\n",
    "\n",
    "a =[\"an\",\"bn\",\"cn\",\"dn\"]\n",
    "for i in range(3):\n",
    "    a[i]= a[i].strip(\"n\")\n",
    "else:\n",
    "    print(a[2]+a[3])"
   ]
  },
  {
   "cell_type": "code",
   "execution_count": 7,
   "metadata": {},
   "outputs": [
    {
     "name": "stdout",
     "output_type": "stream",
     "text": [
      "g\n",
      "gn\n",
      "gni\n",
      "gnid\n",
      "gnido\n",
      "gnidoC\n"
     ]
    }
   ],
   "source": [
    "#deni saputra\n",
    "#forloop\n",
    "\n",
    "a = \"Coding\"\n",
    "b = \"\"\n",
    "\n",
    "for i in range(len(a)-1,-1,-1):\n",
    "    b += a[i]\n",
    "    print(b)\n",
    "#ket: saat masuk forloop dimana for in range(5,-1,-1),i = 5,4,3,2,1,0.\n",
    "#sebenarnya tujuan dari ngeloop adalah untuk membuat stringnya terbalik. saat i=5,b=\"\"+\n",
    "# a[5]=\"\"+\"g\"=\"g\" saat i=4,b=0,.., saat i=0, b=\"gnindo\"+\"C\" = \"gnidoC\" jadi terkahir variabel b=\"gnidoC\""
   ]
  },
  {
   "cell_type": "code",
   "execution_count": 9,
   "metadata": {},
   "outputs": [
    {
     "name": "stdout",
     "output_type": "stream",
     "text": [
      "12\n"
     ]
    }
   ],
   "source": [
    "#deni saputra\n",
    "#function+global variabel\n",
    "\n",
    "x,y = 3,5\n",
    "\n",
    "def func():\n",
    "    global x\n",
    "    x = y + 2\n",
    "    \n",
    "func()\n",
    "print(x + y)\n",
    "\n",
    "#ket: pertama x=3,y=5 saat function dipanggil maka variabel x berubah karna ada global x(membuat variabel x yang di\n",
    "# function menimpa variabel x yang diluar function menimpa variabel x yang diluar function) jadi sekarang x=7(x=5+2)\n",
    "#y = 5(krna function tidak berubah variabel y ) jadi x+y=7+5=12"
   ]
  }
 ],
 "metadata": {
  "kernelspec": {
   "display_name": "Python 3",
   "language": "python",
   "name": "python3"
  },
  "language_info": {
   "codemirror_mode": {
    "name": "ipython",
    "version": 3
   },
   "file_extension": ".py",
   "mimetype": "text/x-python",
   "name": "python",
   "nbconvert_exporter": "python",
   "pygments_lexer": "ipython3",
   "version": "3.8.3"
  }
 },
 "nbformat": 4,
 "nbformat_minor": 4
}
